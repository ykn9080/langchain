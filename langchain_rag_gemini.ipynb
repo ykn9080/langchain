{
 "cells": [
  {
   "cell_type": "code",
   "execution_count": null,
   "metadata": {},
   "outputs": [],
   "source": [
    "!pip install -U -q langchain-google-genai"
   ]
  },
  {
   "cell_type": "code",
   "execution_count": 1,
   "metadata": {},
   "outputs": [
    {
     "name": "stderr",
     "output_type": "stream",
     "text": [
      "/home/yknam/anaconda3/envs/langchain/lib/python3.10/site-packages/tqdm/auto.py:21: TqdmWarning: IProgress not found. Please update jupyter and ipywidgets. See https://ipywidgets.readthedocs.io/en/stable/user_install.html\n",
      "  from .autonotebook import tqdm as notebook_tqdm\n"
     ]
    },
    {
     "data": {
      "text/markdown": [
       "**네이버 주식회사**는 1999년 6월 1일에 네이버를 출시한 대한민국의 포털 사이트이다. 네이버는 대한민국에서 가장 인기 있는 웹사이트이며, 세계에서 가장 인기 있는 웹사이트 중 하나이다. 2022년 6월 기준으로 네이버의 월간 활성 사용자 수는 4600만 명 이상이다.\n",
       "\n",
       "네이버는 검색, 뉴스, 이메일, 쇼핑, 게임, 비디오 등 다양한 서비스를 제공한다. 네이버는 또한 네이버캐스트, 네이버페이, 네이버블로그, 네이버밴드 등의 다양한 플랫폼을 운영하고 있다.\n",
       "\n",
       "네이버는 2000년에 코스닥에 상장하였고, 2005년에 코스피로 이전 상장하였다. 네이버의 시가총액은 2022년 6월 기준으로 100조 원 이상이다.\n",
       "\n",
       "네이버는 대한민국의 가장 큰 인터넷 기업 중 하나이며, 대한민국의 경제에 중요한 역할을 하고 있다. 네이버는 또한 대한민국의 문화와 사회에 큰 영향을 미치고 있다.\n",
       "\n",
       "**네이버의 주요 서비스**\n",
       "\n",
       "* 검색: 네이버는 대한민국에서 가장 인기 있는 검색 엔진이다. 네이버 검색은 웹, 이미지, 뉴스, 블로그, 지도 등 다양한 콘텐츠를 검색할 수 있다.\n",
       "* 뉴스: 네이버 뉴스는 대한민국에서 가장 인기 있는 뉴스 사이트이다. 네이버 뉴스는 국내외의 주요 뉴스를 제공한다.\n",
       "* 이메일: 네이버 이메일은 대한민국에서 가장 인기 있는 이메일 서비스이다. 네이버 이메일은 무료로 사용할 수 있으며, 15GB의 대용량 저장 공간을 제공한다.\n",
       "* 쇼핑: 네이버 쇼핑은 대한민국에서 가장 인기 있는 쇼핑몰이다. 네이버 쇼핑은 다양한 상품을 판매하며, 배송비 무료, 교환/반품 무료 등 다양한 혜택을 제공한다.\n",
       "* 게임: 네이버 게임은 대한민국에서 가장 인기 있는 게임 플랫폼이다. 네이버 게임은 다양한 게임을 제공하며, 무료로 플레이할 수 있다.\n",
       "* 비디오: 네이버 비디오는 대한민국에서 가장 인기 있는 비디오 플랫폼이다. 네이버 비디오는 다양한 영화, 드라마, 예능 프로그램 등을 제공한다.\n",
       "\n",
       "네이버는 또한 네이버캐스트, 네이버페이, 네이버블로그, 네이버밴드 등의 다양한 플랫폼을 운영하고 있다.\n",
       "\n",
       "네이버캐스트는 대한민국 최대의 OTT 플랫폼이다. 네이버캐스트는 다양한 영화, 드라마, 예능 프로그램 등을 제공하며, 유료로 시청할 수 있다.\n",
       "\n",
       "네이버페이는 대한민국에서 가장 인기 있는 모바일 결제 서비스이다. 네이버페이는 다양한 온라인 쇼핑몰과 오프라인 매장에서 결제할 수 있다.\n",
       "\n",
       "네이버블로그는 대한민국에서 가장 인기 있는 블로그 플랫폼이다. 네이버블로그는 개인이 블로그를 만들고 운영할 수 있으며, 무료로 이용할 수 있다.\n",
       "\n",
       "네이버밴드는 대한민국에서 가장 인기 있는 소셜 네트워크 서비스 플랫폼이다. 네이버밴드는 사용자들이 그룹을 만들고 가입하여 의사 소통할 수 있는 플랫폼이다."
      ],
      "text/plain": [
       "<IPython.core.display.Markdown object>"
      ]
     },
     "execution_count": 1,
     "metadata": {},
     "output_type": "execute_result"
    }
   ],
   "source": [
    "from IPython.display import display,Markdown as md,display_markdown\n",
    "import apikey\n",
    "apikey.getgoogle()\n",
    "\n",
    "from langchain_google_genai import ChatGoogleGenerativeAI\n",
    "\n",
    "llm=ChatGoogleGenerativeAI(model=\"gemini-pro\")\n",
    "result=llm.invoke(\"네이버에 대해 보고서를 작성해줘\")\n",
    "\n",
    "md(result.content)\n"
   ]
  },
  {
   "cell_type": "code",
   "execution_count": 4,
   "metadata": {},
   "outputs": [],
   "source": [
    "from langchain.prompts import ChatPromptTemplate\n",
    "from langchain.schema.runnable import RunnableMap\n",
    "\n",
    "template=\"\"\"Answer the question as based only on th following context:\n",
    "{context}\n",
    "\n",
    "Question: {question}\n",
    "\"\"\"\n",
    "prompt=ChatPromptTemplate.from_template(template)\n"
   ]
  },
  {
   "cell_type": "code",
   "execution_count": null,
   "metadata": {},
   "outputs": [],
   "source": [
    "gemini=ChatGoogleGenerativeAI(model=\"gemini-pro\",temperature=0)\n",
    "chain=RunnableMap({})"
   ]
  }
 ],
 "metadata": {
  "kernelspec": {
   "display_name": "langchain",
   "language": "python",
   "name": "python3"
  },
  "language_info": {
   "codemirror_mode": {
    "name": "ipython",
    "version": 3
   },
   "file_extension": ".py",
   "mimetype": "text/x-python",
   "name": "python",
   "nbconvert_exporter": "python",
   "pygments_lexer": "ipython3",
   "version": "3.10.13"
  }
 },
 "nbformat": 4,
 "nbformat_minor": 2
}
